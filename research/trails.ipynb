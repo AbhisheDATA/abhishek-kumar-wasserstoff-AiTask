{
 "cells": [
  {
   "cell_type": "code",
   "execution_count": 2,
   "metadata": {},
   "outputs": [],
   "source": [
    "from langchain_community.document_loaders import JSONLoader"
   ]
  },
  {
   "cell_type": "code",
   "execution_count": 3,
   "metadata": {},
   "outputs": [],
   "source": [
    "\n",
    "from langchain.docstore.document import Document\n",
    "import json\n",
    "\n",
    "def loadJSONFile(file_path):\n",
    "    docs=[]\n",
    "    # Load JSON file\n",
    "    with open(file_path) as file:\n",
    "        data = json.load(file)\n",
    "\n",
    "    # Iterate through 'pages'\n",
    "    for page in data['pages']:\n",
    "        parenturl = page['parenturl']\n",
    "        pagetitle = page['pagetitle']\n",
    "        indexeddate = page['indexeddate']\n",
    "        snippets = page['snippets']\n",
    "        metadata={\"title\":pagetitle}\n",
    "\n",
    "        # Process snippets for each page\n",
    "        for snippet in snippets:\n",
    "            index = snippet['index']\n",
    "            childurl = snippet['childurl']\n",
    "            text = snippet['text']\n",
    "            docs.append(Document(page_content=text, metadata=metadata))\n",
    "    return docs "
   ]
  },
  {
   "cell_type": "code",
   "execution_count": null,
   "metadata": {},
   "outputs": [],
   "source": []
  }
 ],
 "metadata": {
  "kernelspec": {
   "display_name": "genai",
   "language": "python",
   "name": "python3"
  },
  "language_info": {
   "codemirror_mode": {
    "name": "ipython",
    "version": 3
   },
   "file_extension": ".py",
   "mimetype": "text/x-python",
   "name": "python",
   "nbconvert_exporter": "python",
   "pygments_lexer": "ipython3",
   "version": "3.10.13"
  }
 },
 "nbformat": 4,
 "nbformat_minor": 2
}
