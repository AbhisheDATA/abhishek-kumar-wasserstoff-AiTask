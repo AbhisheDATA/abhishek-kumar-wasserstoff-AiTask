{
 "cells": [
  {
   "cell_type": "code",
   "execution_count": 2,
   "metadata": {},
   "outputs": [],
   "source": [
    "from langchain_community.document_loaders import JSONLoader"
   ]
  },
  {
   "cell_type": "code",
   "execution_count": 6,
   "metadata": {},
   "outputs": [
    {
     "name": "stdout",
     "output_type": "stream",
     "text": [
      " * Serving Flask app '__main__'\n",
      " * Debug mode: on\n"
     ]
    },
    {
     "name": "stderr",
     "output_type": "stream",
     "text": [
      "WARNING: This is a development server. Do not use it in a production deployment. Use a production WSGI server instead.\n",
      " * Running on http://127.0.0.1:5000\n",
      "Press CTRL+C to quit\n",
      " * Restarting with watchdog (windowsapi)\n"
     ]
    },
    {
     "ename": "SystemExit",
     "evalue": "1",
     "output_type": "error",
     "traceback": [
      "An exception has occurred, use %tb to see the full traceback.\n",
      "\u001b[1;31mSystemExit\u001b[0m\u001b[1;31m:\u001b[0m 1\n"
     ]
    },
    {
     "name": "stderr",
     "output_type": "stream",
     "text": [
      "c:\\Users\\abhis\\anaconda3\\envs\\genai\\lib\\site-packages\\IPython\\core\\interactiveshell.py:3585: UserWarning: To exit: use 'exit', 'quit', or Ctrl-D.\n",
      "  warn(\"To exit: use 'exit', 'quit', or Ctrl-D.\", stacklevel=1)\n"
     ]
    }
   ],
   "source": [
    "from flask import Flask, request, jsonify\n",
    "import json\n",
    "import os\n",
    "from langchain_core.documents import Document\n",
    "# Text Splitter\n",
    "from langchain.text_splitter import RecursiveCharacterTextSplitter, CharacterTextSplitter\n",
    "\n",
    "app = Flask(__name__)\n",
    "\n",
    "# File path for storing the data\n",
    "DATA_FILE_PATH = 'webhook_data.json'\n",
    "\n",
    "# Function to load data from the JSON file\n",
    "def load_data():\n",
    "    if os.path.exists(DATA_FILE_PATH):\n",
    "        with open(DATA_FILE_PATH, 'r') as file:\n",
    "            return json.load(file)\n",
    "    else:\n",
    "        return {}\n",
    "\n",
    "# Function to save data to the JSON file\n",
    "def save_data(data):\n",
    "    with open(DATA_FILE_PATH, 'w') as file:\n",
    "        json.dump(data, file, indent=4)  # Indent for better readability\n",
    "\n",
    "@app.route('/webhook', methods=['POST'])\n",
    "def handle_webhook():\n",
    "    # Check if the request contains JSON data\n",
    "    if request.is_json:\n",
    "        data = request.get_json()\n",
    "        \n",
    "        # Process the webhook payload\n",
    "        post_id = data.get('post_id')\n",
    "        post_title = data.get('post_title')\n",
    "        post_content = data.get('post_content')\n",
    "        post_url = data.get('post_url')\n",
    "        document = ([Document(page_content=post_content, metadata={\"title\": post_title, \"post id\": post_id})])\n",
    "        print(document)\n",
    "        # Create a RecursiveCharacterTextSplitter\n",
    "        text_splitter = RecursiveCharacterTextSplitter(\n",
    "            #separators = [\"\\n\\n\", \"\\n\", \" \", \"\"],    \n",
    "            chunk_size = 500,\n",
    "            chunk_overlap= 50,\n",
    "            length_function=len\n",
    "        )\n",
    "\n",
    "            # Text splitting\n",
    "        chunks = text_splitter.split_documents(documents=document)\n",
    "        print(chunks)\n",
    "        print(f\"number of chunks: {len(chunks)}\")\n",
    "        # Load existing data\n",
    "        existing_data = load_data()\n",
    "\n",
    "        # Update existing data with new information\n",
    "        existing_data[post_id] = {\n",
    "            'post_title': post_title,\n",
    "            'post_content': post_content,\n",
    "            'post_url': post_url\n",
    "        }\n",
    "\n",
    "        # Save data to the JSON file\n",
    "        save_data(existing_data)\n",
    "\n",
    "        # Do something with the data (e.g., save it to a database)\n",
    "        print(f\"Received webhook for post {post_id}: {post_title}\")\n",
    "\n",
    "        # Send a response back to confirm receipt\n",
    "        return jsonify({'message': 'Webhook received successfully'}), 200\n",
    "    else:\n",
    "        return jsonify({'error': 'Invalid JSON payload'}), 400\n",
    "\n",
    "if __name__ == '__main__':\n",
    "    app.run(debug=True)"
   ]
  },
  {
   "cell_type": "code",
   "execution_count": 7,
   "metadata": {},
   "outputs": [],
   "source": [
    "from langchain_community.vectorstores import Chroma"
   ]
  },
  {
   "cell_type": "code",
   "execution_count": 9,
   "metadata": {},
   "outputs": [],
   "source": [
    "HTML='''!-- wp:heading {\\\"level\\\":1} -->\\n<h1 class=\\\"wp-block-heading\\\" id=\\\"Beginner.27s_Guide_to_Python\\\">Beginner's Guide to Python</h1>\\n<!-- /wp:heading -->\\n\\n<!-- wp:paragraph -->\\n<p>New to programming? Python is free and easy to learn if you know where to start! This guide will help you to get started quickly.</p>\\n<!-- /wp:paragraph -->\\n\\n<!-- wp:heading -->\\n<h2 class=\\\"wp-block-heading\\\" id=\\\"New_to_Python.3F\\\">New to Python?</h2>\\n<!-- /wp:heading -->\\n\\n<!-- wp:paragraph -->\\n<p>Read&nbsp;<a href=\\\"https://wiki.python.org/moin/BeginnersGuide/Overview\\\">BeginnersGuide/Overview</a>&nbsp;for a short explanation of what Python is.</p>\\n<!-- /wp:paragraph -->\\n\\n<!-- wp:heading -->\\n<h2 class=\\\"wp-block-heading\\\" id=\\\"Getting_Python\\\">Getting Python</h2>\\n<!-- /wp:heading -->\\n\\n<!-- wp:paragraph -->\\n<p>Next, install the Python 3 interpreter on your computer. This is the program that reads Python programs and carries out their instructions; you need it before you can do any Python programming. Mac and Linux distributions may include an outdated version of Python (Python 2), but you should install an updated one (Python 3). See&nbsp;<a href=\\\"https://wiki.python.org/moin/BeginnersGuide/Download\\\">BeginnersGuide/Download</a>&nbsp;for instructions to download the correct version of Python.</p>\\n<!-- /wp:paragraph -->\\n\\n<!-- wp:paragraph -->\\n<p>There are also Python interpreter and IDE bundles available, such as&nbsp;<a href=\\\"http://thonny.org/\\\">Thonny</a>. Other options can be found at&nbsp;<a href=\\\"https://wiki.python.org/moin/IntegratedDevelopmentEnvironments\\\">IntegratedDevelopmentEnvironments</a>.</p>\\n<!-- /wp:paragraph -->\\n\\n<!-- wp:paragraph -->\\n<p>At some stage, you'll want to edit and save your program code. Take a look at&nbsp;<a href=\\\"https://wiki.python.org/moin/HowToEditPythonCode\\\">HowToEditPythonCode</a>&nbsp;for some advice and recommendations.</p>\\n<!-- /wp:paragraph -->\\n\\n<!-- wp:heading -->\\n<h2 class=\\\"wp-block-heading\\\" id=\\\"Learning_Python\\\">Learning Python</h2>\\n<!-- /wp:heading -->\\n\\n<!-- wp:paragraph -->\\n<p>Next, read a tutorial and try some simple experiments with your new Python interpreter.</p>\\n<!-- /wp:paragraph -->\\n\\n<!-- wp:list -->\\n<ul><!-- wp:list-item -->\\n<li>If you have never programmed before, see\\u00a0<a href=\\\"https://wiki.python.org/moin/BeginnersGuide/NonProgrammers\\\">BeginnersGuide/NonProgrammers</a>\\u00a0for a list of suitable tutorials.</li>\\n<!-- /wp:list-item -->\\n\\n<!-- wp:list-item -->\\n<li>If you have previous programming experience, consult\\u00a0<a href=\\\"https://wiki.python.org/moin/BeginnersGuide/Programmers\\\">BeginnersGuide/Programmers</a>, which lists more advanced tutorials.</li>\\n<!-- /wp:list-item -->\\n\\n<!-- wp:list-item -->\\n<li>If English isn't your first language, you might be more comfortable with a tutorial that's been translated into your language. Consult python.org's\\u00a0<a href=\\\"https://wiki.python.org/moin/Languages\\\">list of Non-English resources</a>.</li>\\n<!-- /wp:list-item --></ul>\\n<!-- /wp:list -->\\n\\n<!-- wp:paragraph -->\\n<p>Most tutorials assume you know how to run a program on your computer. If you are using Windows and need help with this, see&nbsp;<a href=\\\"http://www.python.org/doc/faq/windows/#how-do-i-run-a-python-program-under-windows\\\">How do I Run a Program Under Windows</a>.</p>\\n<!-- /wp:paragraph -->\\n\\n<!-- wp:paragraph -->\\n<p>Here are some sites that focus on beginners and offer in-browser coding:</p>\\n<!-- /wp:paragraph -->\\n\\n<!-- wp:list -->\\n<ul><!-- wp:list-item -->\\n<li><a href=\\\"https://python.land/python-tutorial\\\">Beginners Python tutorial</a>\\u00a0at Python Land (free)</li>\\n<!-- /wp:list-item -->\\n\\n<!-- wp:list-item -->\\n<li><a href=\\\"https://www.codedex.io/python\\\">Cod\\u00e9dex</a>\\u00a0(non-free)</li>\\n<!-- /wp:list-item --></ul>\\n<!-- /wp:list -->\\n\\n<!-- wp:list -->\\n<ul><!-- wp:list-item -->\\n<li><a href=\\\"https://www.coding-bootcamps.com/\\\">Coding Bootcamps</a>\\u00a0(non-free)</li>\\n<!-- /wp:list-item -->\\n\\n<!-- wp:list-item -->\\n<li><a href=\\\"https://www.datacamp.com/\\\">DataCamp</a>\\u00a0(non-free)</li>\\n<!-- /wp:list-item -->\\n\\n<!-- wp:list-item -->\\n<li><a href=\\\"https://www.dataquest.io/\\\">Dataquest</a>\\u00a0for Python for data science. (free)</li>\\n<!-- /wp:list-item -->\\n\\n<!-- wp:list-item -->\\n<li><a href=\\\"https://www.hackinscience.org/\\\">HackInScience</a>\\u00a0free and open source platform.</li>\\n<!-- /wp:list-item -->\\n\\n<!-- wp:list-item -->\\n<li><a href=\\\"https://www.myhsts.org/\\\">High School Technology Services</a>\\u00a0for general Python (non-free)</li>\\n<!-- /wp:list-item --></ul>\\n<!-- /wp:list -->\\n\\n<!-- wp:paragraph -->\\n<p>Print a&nbsp;<a href=\\\"https://blog.finxter.com/python-cheat-sheet/\\\">cheat sheet</a>&nbsp;of the most important Python features and post it to your office wall until you know the basics well.</p>\\n<!-- /wp:paragraph -->\\n\\n<!-- wp:paragraph -->\\n<p>Once you have read a tutorial, you can browse through&nbsp;<a href=\\\"http://docs.python.org/\\\">Python's online documentation</a>. It includes&nbsp;<a href=\\\"http://docs.python.org/tut/\\\">a tutorial</a>&nbsp;that might come in handy,&nbsp;<a href=\\\"http://docs.python.org//lib/\\\">a Library Reference</a>&nbsp;that lists all of the modules that come standard with Python, and&nbsp;<a href=\\\"http://docs.python.org/ref/\\\">the Language Reference</a>&nbsp;for a complete (if rather dry) explanation of Python's syntax.</p>\\n<!-- /wp:paragraph -->\\n\\n<!-- wp:paragraph -->\\n<p>When you are ready to write your first program, you will need a&nbsp;<a href=\\\"https://wiki.python.org/moin/PythonEditors\\\">text editor</a>&nbsp;or an&nbsp;<a href=\\\"https://wiki.python.org/moin/IntegratedDevelopmentEnvironments\\\">IDE</a>. If you don't want to use Thonny or something more advanced, then you can use&nbsp;<a href=\\\"https://docs.python.org/3/library/idle.html\\\">IDLE</a>, which is bundled with Python and supports&nbsp;<a href=\\\"http://idlex.sourceforge.net/\\\">extensions</a>.</p>\\n<!-- /wp:paragraph -->\\n\\n<!-- wp:paragraph -->\\n<p>This Python wiki also contains a page about&nbsp;<a href=\\\"https://wiki.python.org/moin/Powerful%20Python%20One-Liners\\\">Python One-Liners</a>&nbsp;-- an obscure but interesting subculture in Python.</p>\\n<!-- /wp:paragraph -->\\n\\n<!-- wp:heading -->\\n<h2 class=\\\"wp-block-heading\\\" id=\\\"Need_Help.3F\\\">Need Help?</h2>\\n<!-- /wp:heading -->\\n\\n<!-- wp:paragraph -->\\n<p>Need help with any of this? Read&nbsp;<a href=\\\"https://wiki.python.org/moin/BeginnersGuide/Help\\\">BeginnersGuide/Help</a>&nbsp;for mailing lists and newsgroups.</p>\\n<!-- /wp:paragraph -->\\n\\n<!-- wp:paragraph -->\\n<p>Most Python books will include an introduction to the language; see&nbsp;<a href=\\\"https://wiki.python.org/moin/IntroductoryBooks\\\">IntroductoryBooks</a>&nbsp;for suggested titles.</p>\\n<!-- /wp:paragraph -->\\n\\n<!-- wp:paragraph -->\\n<p>Consult&nbsp;<a href=\\\"https://wiki.python.org/moin/BeginnersGuide/Examples\\\">BeginnersGuide/Examples</a>&nbsp;for small programs and little snippets of code that can help you learn.</p>\\n<!-- /wp:paragraph -->\\n\\n<!-- wp:paragraph -->\\n<p>Or, if you prefer to learn Python through listening to a lecture, you can attend a training course or even hire a trainer to come to your company. Consult the&nbsp;<a href=\\\"https://wiki.python.org/moin/PythonEvents\\\">PythonEvents</a>&nbsp;page to see if any training courses are scheduled in your area and the&nbsp;<a href=\\\"https://wiki.python.org/moin/PythonTraining\\\">PythonTraining</a>&nbsp;page for a list of trainers.</p>\\n<!-- /wp:paragraph -->\\n\\n<!-- wp:paragraph -->\\n<p>Teachers can join the&nbsp;<a href=\\\"http://www.python.org/sigs/edu-sig/\\\">EDU-SIG</a>, a mailing list for discussion of Python's use in teaching at any level ranging from K-12 up to university.</p>\\n<!-- /wp:paragraph -->\\n\\n<!-- wp:heading -->\\n<h2 class=\\\"wp-block-heading\\\" id=\\\"Complete_list_of_Beginner.27s_Guide_pages\\\">Complete list of Beginner's Guide pages</h2>\\n<!-- /wp:heading -->\\n\\n<!-- wp:list {\\\"ordered\\\":true,\\\"start\\\":1} -->\\n<ol start=\\\"1\\\"><!-- wp:list-item -->\\n<li><a href=\\\"https://wiki.python.org/moin/BeginnersGuide/Download\\\"><strong>BeginnersGuide/</strong>Download</a></li>\\n<!-- /wp:list-item -->\\n\\n<!-- wp:list-item -->\\n<li><a href=\\\"https://wiki.python.org/moin/BeginnersGuide/Examples\\\"><strong>BeginnersGuide/</strong>Examples</a></li>\\n<!-- /wp:list-item -->\\n\\n<!-- wp:list-item -->\\n<li><a href=\\\"https://wiki.python.org/moin/BeginnersGuide/Help\\\"><strong>BeginnersGuide/</strong>Help</a></li>\\n<!-- /wp:list-item -->\\n\\n<!-- wp:list-item -->\\n<li><a href=\\\"https://wiki.python.org/moin/BeginnersGuide/Mathematics\\\"><strong>BeginnersGuide/</strong>Mathematics</a></li>\\n<!-- /wp:list-item -->\\n\\n<!-- wp:list-item -->\\n<li><a href=\\\"https://wiki.python.org/moin/BeginnersGuide/NonProgrammers\\\"><strong>BeginnersGuide/</strong>NonProgrammers</a></li>\\n<!-- /wp:list-item -->\\n\\n<!-- wp:list-item -->\\n<li><a href=\\\"https://wiki.python.org/moin/BeginnersGuide/NonProgrammersChinese\\\"><strong>BeginnersGuide/</strong>NonProgrammersChinese</a></li>\\n<!-- /wp:list-item -->\\n\\n<!-- wp:list-item -->\\n<li><a href=\\\"https://wiki.python.org/moin/BeginnersGuide/Overview\\\"><strong>BeginnersGuide/</strong>Overview</a></li>\\n<!-- /wp:list-item -->\\n\\n<!-- wp:list-item -->\\n<li><a href=\\\"https://wiki.python.org/moin/BeginnersGuide/OverviewChinese\\\"><strong>BeginnersGuide/</strong>OverviewChinese</a></li>\\n<!-- /wp:list-item -->\\n\\n<!-- wp:list-item -->\\n<li><a href=\\\"https://wiki.python.org/moin/BeginnersGuide/Programmers\\\"><strong>BeginnersGuide/</strong>Programmers</a></li>\\n<!-- /wp:list-item -->\\n\\n<!-- wp:list-item -->\\n<li><a href=\\\"https://wiki.python.org/moin/BeginnersGuide/Programmers?action=AttachFile&amp;do=view&amp;target=Cpp2Python.pdf\\\">BeginnersGuide/Programmers\\u00a0<strong>(Cpp2Python.pdf)</strong></a></li>\\n<!-- /wp:list-item -->\\n\\n<!-- wp:list-item -->\\n<li><a href=\\\"https://wiki.python.org/moin/BeginnersGuide/Programmers/SimpleExamples\\\"><strong>BeginnersGuide/</strong>Programmers/SimpleExamples</a></li>\\n<!-- /wp:list-item --></ol>\\n<!-- /wp:list -->\\n\\n<!-- wp:heading -->\\n<h2 class=\\\"wp-block-heading\\\" id=\\\"Quiz_and_Exercises\\\">Quiz and Exercises</h2>\\n<!-- /wp:heading -->\\n\\n<!-- wp:list -->\\n<ul><!-- wp:list-item -->\\n<li>Finxter -\\u00a0<a href=\\\"https://finxter.com/\\\">How good are your Python skills? Test and Training with a Daily Python Puzzle</a></li>\\n<!-- /wp:list-item -->\\n\\n<!-- wp:list-item -->\\n<li>CheckIO -\\u00a0<a href=\\\"http://www.checkio.org/\\\">Online learning, testing and improving your python skills</a></li>\\n<!-- /wp:list-item -->\\n\\n<!-- wp:list-item -->\\n<li>After Hours Programming -\\u00a0<a href=\\\"http://www.afterhoursprogramming.com/tutorial/Python/Python-Quiz/\\\">Python Quiz</a></li>\\n<!-- /wp:list-item -->\\n\\n<!-- wp:list-item -->\\n<li>PyGUI -\\u00a0<a href=\\\"http://www.pythongui.com/\\\">Collection of python quiz answers, Examples And GUI Tkinter Tutorials For Beginners</a></li>\\n<!-- /wp:list-item -->\\n\\n<!-- wp:list-item -->\\n<li>Pythonspot -\\u00a0<a href=\\\"https://pythonspot.com/python-tests-quizes/\\\">Python Quiz</a></li>\\n<!-- /wp:list-item -->\\n\\n<!-- wp:list-item -->\\n<li>Python Challenge -\\u00a0<a href=\\\"https://play.google.com/store/apps/details?id=sg.apps.garden.pythonchallenge\\\">A Python Quiz App on Android Platform</a></li>\\n<!-- /wp:list-item -->\\n\\n<!-- wp:list-item -->\\n<li><a href=\\\"http://cscircles.cemc.uwaterloo.ca/\\\">CS Circles - online lessons and graded exercises</a></li>\\n<!-- /wp:list-item --></ul>\\n<!-- /wp:list -->\\n\\n<!-- wp:heading -->\\n<h2 class=\\\"wp-block-heading\\\" id=\\\"Python_Style_Checker\\\">Python Style Checker</h2>\\n<!-- /wp:heading -->\\n\\n<!-- wp:list -->\\n<ul><!-- wp:list-item -->\\n<li><a href=\\\"http://pythonchecker.com/\\\">Pythonchecker.com</a>\\u00a0- An educative online tool to rate your Python style (with dynamic score computation and hints)</li>\\n<!-- /wp:list-item --></ul>\\n<!-- /wp:list -->\\n\\n<!-- wp:heading -->\\n<h2 class=\\\"wp-block-heading\\\" id=\\\"Looking_for_a_particular_Python_module_or_application.3F\\\">Looking for a particular Python module or application?</h2>\\n<!-- /wp:heading -->\\n\\n<!-- wp:list -->\\n<ul><!-- wp:list-item -->\\n<li>The first place to look is the\\u00a0<a href=\\\"http://pypi.python.org/pypi\\\">Python Package Index</a>.</li>\\n<!-- /wp:list-item -->\\n\\n<!-- wp:list-item -->\\n<li>If you can't find anything relevant in the Package Index,try\\u00a0<a href=\\\"http://www.python.org/search/\\\">searching python.org</a>\\u00a0- you can find anything mentioned on the Python site, in the\\u00a0<a href=\\\"http://www.python.org/doc/faq/\\\">FAQs</a>, or in the newsgroup. More info:\\u00a0<a href=\\\"http://www.python.org/search/\\\">where to search</a>.</li>\\n<!-- /wp:list-item -->\\n\\n<!-- wp:list-item -->\\n<li>You may also try our external guest project,\\u00a0<a href=\\\"http://pydoc.net/\\\">pydoc.net</a>, for advanced package and module search.</li>\\n<!-- /wp:list-item -->\\n\\n<!-- wp:list-item -->\\n<li>Next, try\\u00a0<a href=\\\"http://www.google.com/\\\">Google</a>\\u00a0or another search engine of your choice. Searching for \\\"python\\\" and some relevant keywords will usually find something helpful.</li>\\n<!-- /wp:list-item -->\\n\\n<!-- wp:list-item -->\\n<li>Finally, you can try posting a query to the comp.lang.python Usenet group.</li>\\n<!-- /wp:list-item --></ul>\\n<!-- /wp:list -->\\n\\n<!-- wp:heading -->\\n<h2 class=\\\"wp-block-heading\\\" id=\\\"Python-Related_Cheat_Sheets\\\">Python-Related Cheat Sheets</h2>\\n<!-- /wp:heading -->\\n\\n<!-- wp:list -->\\n<ul><!-- wp:list-item -->\\n<li>Python:\\u00a0<a href=\\\"https://blog.finxter.com/collection-5-cheat-sheets-every-python-coder-must-own/\\\">Collection of 11 Best Python Cheat Sheets</a></li>\\n<!-- /wp:list-item -->\\n\\n<!-- wp:list-item -->\\n<li><a href=\\\"https://wiki.python.org/moin/NumPy\\\">NumPy</a>:\\u00a0<a href=\\\"https://blog.finxter.com/collection-10-best-numpy-cheat-sheets-every-python-coder-must-own/\\\">Collection of 10 Best NumPy Cheat Sheets</a></li>\\n<!-- /wp:list-item -->\\n\\n<!-- wp:list-item -->\\n<li>Pandas:\\u00a0<a href=\\\"https://blog.finxter.com/pandas-cheat-sheets/\\\">Collection of 7 Beautiful Pandas Cheat Sheets</a></li>\\n<!-- /wp:list-item -->\\n\\n<!-- wp:list-item -->\\n<li>Machine Learning:\\u00a0<a href=\\\"https://blog.finxter.com/machine-learning-cheat-sheets/\\\">Collection of 15 Machine Learning Cheat Sheets</a></li>\\n<!-- /wp:list-item --></ul>\\n<!-- /wp:list -->\\n\\n<!-- wp:heading -->\\n<h2 class=\\\"wp-block-heading\\\" id=\\\"Want_to_contribute.3F\\\">Want to contribute?</h2>\\n<!-- /wp:heading -->\\n\\n<!-- wp:list -->\\n<ul><!-- wp:list-item -->\\n<li>Python is a product of the\\u00a0<a href=\\\"http://www.python.org/psf/\\\">Python Software Foundation</a>, a non-profit organization that holds the copyright.\\u00a0<a href=\\\"http://www.python.org/psf/donations/\\\">Donations to the PSF</a>\\u00a0are tax-deductible in the USA, and you can donate via credit card or\\u00a0<a href=\\\"https://wiki.python.org/moin/PayPal\\\">PayPal</a>.</li>\\n<!-- /wp:list-item -->\\n\\n<!-- wp:list-item -->\\n<li>To report a bug in the Python core, use the\\u00a0<a href=\\\"http://bugs.python.org/\\\">Python Bug Tracker</a>.</li>\\n<!-- /wp:list-item -->\\n\\n<!-- wp:list-item -->\\n<li>To contribute a bug fix or other patch to the Python core, read the\\u00a0<a href=\\\"http://www.python.org/dev/\\\">Python Developer's Guide</a>\\u00a0for more information about Python's development process.</li>\\n<!-- /wp:list-item -->\\n\\n<!-- wp:list-item -->\\n<li>To contribute to the official\\u00a0<a href=\\\"http://www.python.org/doc/\\\">Python documentation</a>, join the\\u00a0<a href=\\\"http://www.python.org/sigs/doc-sig/\\\">Documentation SIG</a>, write to\\u00a0<a href=\\\"mailto:docs@python.org\\\">docs@python.org</a>\\u00a0, or use the\\u00a0<a href=\\\"http://bugs.python.org/\\\">Issue Tracker</a>\\u00a0to contribute a documentation patch.</li>\\n<!-- /wp:list-item -->\\n\\n<!-- wp:list-item -->\\n<li>To announce your module or application to the Python community, use\\u00a0<a href=\\\"news:comp.lang.python.announce\\\">comp.lang.python.announce</a>. See\\u00a0<a href=\\\"http://www.python.org/community/lists/#comp-lang-python-announce\\\">the guide to Python mailing lists</a>\\u00a0for more information.</li>\\n<!-- /wp:list-item -->\\n\\n<!-- wp:list-item -->\\n<li>To propose changes to the Python core, post your thoughts to\\u00a0<a href=\\\"news:comp.lang.python\\\">comp.lang.python</a>. If you have an implementation, follow the\\u00a0<a href=\\\"http://www.python.org/patches/\\\">Python Patch Guidelines</a>.</li>\\n<!-- /wp:list-item -->\\n\\n<!-- wp:list-item -->\\n<li>If you have a question are not sure where to report it, check out the\\u00a0<a href=\\\"https://wiki.python.org/moin/WhereDoIReportThis%3F\\\">WhereDoIReportThis?</a>\\u00a0page.</li>\\n<!-- /wp:list-item --></ul>\\n<!-- /wp:list -->\",'''"
   ]
  },
  {
   "cell_type": "code",
   "execution_count": 10,
   "metadata": {},
   "outputs": [
    {
     "data": {
      "text/plain": [
       "str"
      ]
     },
     "execution_count": 10,
     "metadata": {},
     "output_type": "execute_result"
    }
   ],
   "source": [
    "type(HTML)"
   ]
  },
  {
   "cell_type": "code",
   "execution_count": 16,
   "metadata": {},
   "outputs": [
    {
     "data": {
      "text/plain": [
       "'!-- wp:heading {\"level\":1} -->\\n\\n# Beginner\\'s Guide to Python\\n\\nNew to programming? Python is free and easy to learn if you know where to\\nstart! This guide will help you to get started quickly.\\n\\n## New to Python?\\n\\nRead\\n[BeginnersGuide/Overview](https://wiki.python.org/moin/BeginnersGuide/Overview)\\nfor a short explanation of what Python is.\\n\\n## Getting Python\\n\\nNext, install the Python 3 interpreter on your computer. This is the program\\nthat reads Python programs and carries out their instructions; you need it\\nbefore you can do any Python programming. Mac and Linux distributions may\\ninclude an outdated version of Python (Python 2), but you should install an\\nupdated one (Python 3). See\\n[BeginnersGuide/Download](https://wiki.python.org/moin/BeginnersGuide/Download)\\nfor instructions to download the correct version of Python.\\n\\nThere are also Python interpreter and IDE bundles available, such as\\n[Thonny](http://thonny.org/). Other options can be found at\\n[IntegratedDevelopmentEnvironments](https://wiki.python.org/moin/IntegratedDevelopmentEnvironments).\\n\\nAt some stage, you\\'ll want to edit and save your program code. Take a look at\\n[HowToEditPythonCode](https://wiki.python.org/moin/HowToEditPythonCode) for\\nsome advice and recommendations.\\n\\n## Learning Python\\n\\nNext, read a tutorial and try some simple experiments with your new Python\\ninterpreter.\\n\\n  * If you have never programmed before, see [BeginnersGuide/NonProgrammers](https://wiki.python.org/moin/BeginnersGuide/NonProgrammers) for a list of suitable tutorials.\\n  * If you have previous programming experience, consult [BeginnersGuide/Programmers](https://wiki.python.org/moin/BeginnersGuide/Programmers), which lists more advanced tutorials.\\n  * If English isn\\'t your first language, you might be more comfortable with a tutorial that\\'s been translated into your language. Consult python.org\\'s [list of Non-English resources](https://wiki.python.org/moin/Languages).\\n\\nMost tutorials assume you know how to run a program on your computer. If you\\nare using Windows and need help with this, see [How do I Run a Program Under\\nWindows](http://www.python.org/doc/faq/windows/#how-do-i-run-a-python-program-\\nunder-windows).\\n\\nHere are some sites that focus on beginners and offer in-browser coding:\\n\\n  * [Beginners Python tutorial](https://python.land/python-tutorial) at Python Land (free)\\n  * [Codédex](https://www.codedex.io/python) (non-free)\\n\\n  * [Coding Bootcamps](https://www.coding-bootcamps.com/) (non-free)\\n  * [DataCamp](https://www.datacamp.com/) (non-free)\\n  * [Dataquest](https://www.dataquest.io/) for Python for data science. (free)\\n  * [HackInScience](https://www.hackinscience.org/) free and open source platform.\\n  * [High School Technology Services](https://www.myhsts.org/) for general Python (non-free)\\n\\nPrint a [cheat sheet](https://blog.finxter.com/python-cheat-sheet/) of the\\nmost important Python features and post it to your office wall until you know\\nthe basics well.\\n\\nOnce you have read a tutorial, you can browse through [Python\\'s online\\ndocumentation](http://docs.python.org/). It includes [a\\ntutorial](http://docs.python.org/tut/) that might come in handy, [a Library\\nReference](http://docs.python.org//lib/) that lists all of the modules that\\ncome standard with Python, and [the Language\\nReference](http://docs.python.org/ref/) for a complete (if rather dry)\\nexplanation of Python\\'s syntax.\\n\\nWhen you are ready to write your first program, you will need a [text\\neditor](https://wiki.python.org/moin/PythonEditors) or an\\n[IDE](https://wiki.python.org/moin/IntegratedDevelopmentEnvironments). If you\\ndon\\'t want to use Thonny or something more advanced, then you can use\\n[IDLE](https://docs.python.org/3/library/idle.html), which is bundled with\\nPython and supports [extensions](http://idlex.sourceforge.net/).\\n\\nThis Python wiki also contains a page about [Python One-\\nLiners](https://wiki.python.org/moin/Powerful%20Python%20One-Liners) \\\\-- an\\nobscure but interesting subculture in Python.\\n\\n## Need Help?\\n\\nNeed help with any of this? Read\\n[BeginnersGuide/Help](https://wiki.python.org/moin/BeginnersGuide/Help) for\\nmailing lists and newsgroups.\\n\\nMost Python books will include an introduction to the language; see\\n[IntroductoryBooks](https://wiki.python.org/moin/IntroductoryBooks) for\\nsuggested titles.\\n\\nConsult\\n[BeginnersGuide/Examples](https://wiki.python.org/moin/BeginnersGuide/Examples)\\nfor small programs and little snippets of code that can help you learn.\\n\\nOr, if you prefer to learn Python through listening to a lecture, you can\\nattend a training course or even hire a trainer to come to your company.\\nConsult the [PythonEvents](https://wiki.python.org/moin/PythonEvents) page to\\nsee if any training courses are scheduled in your area and the\\n[PythonTraining](https://wiki.python.org/moin/PythonTraining) page for a list\\nof trainers.\\n\\nTeachers can join the [EDU-SIG](http://www.python.org/sigs/edu-sig/), a\\nmailing list for discussion of Python\\'s use in teaching at any level ranging\\nfrom K-12 up to university.\\n\\n## Complete list of Beginner\\'s Guide pages\\n\\n  1. [**BeginnersGuide/** Download](https://wiki.python.org/moin/BeginnersGuide/Download)\\n  2. [**BeginnersGuide/** Examples](https://wiki.python.org/moin/BeginnersGuide/Examples)\\n  3. [**BeginnersGuide/** Help](https://wiki.python.org/moin/BeginnersGuide/Help)\\n  4. [**BeginnersGuide/** Mathematics](https://wiki.python.org/moin/BeginnersGuide/Mathematics)\\n  5. [**BeginnersGuide/** NonProgrammers](https://wiki.python.org/moin/BeginnersGuide/NonProgrammers)\\n  6. [**BeginnersGuide/** NonProgrammersChinese](https://wiki.python.org/moin/BeginnersGuide/NonProgrammersChinese)\\n  7. [**BeginnersGuide/** Overview](https://wiki.python.org/moin/BeginnersGuide/Overview)\\n  8. [**BeginnersGuide/** OverviewChinese](https://wiki.python.org/moin/BeginnersGuide/OverviewChinese)\\n  9. [**BeginnersGuide/** Programmers](https://wiki.python.org/moin/BeginnersGuide/Programmers)\\n  10. [BeginnersGuide/Programmers **(Cpp2Python.pdf)**](https://wiki.python.org/moin/BeginnersGuide/Programmers?action=AttachFile&do=view&target=Cpp2Python.pdf)\\n  11. [**BeginnersGuide/** Programmers/SimpleExamples](https://wiki.python.org/moin/BeginnersGuide/Programmers/SimpleExamples)\\n\\n## Quiz and Exercises\\n\\n  * Finxter - [How good are your Python skills? Test and Training with a Daily Python Puzzle](https://finxter.com/)\\n  * CheckIO - [Online learning, testing and improving your python skills](http://www.checkio.org/)\\n  * After Hours Programming - [Python Quiz](http://www.afterhoursprogramming.com/tutorial/Python/Python-Quiz/)\\n  * PyGUI - [Collection of python quiz answers, Examples And GUI Tkinter Tutorials For Beginners](http://www.pythongui.com/)\\n  * Pythonspot - [Python Quiz](https://pythonspot.com/python-tests-quizes/)\\n  * Python Challenge - [A Python Quiz App on Android Platform](https://play.google.com/store/apps/details?id=sg.apps.garden.pythonchallenge)\\n  * [CS Circles - online lessons and graded exercises](http://cscircles.cemc.uwaterloo.ca/)\\n\\n## Python Style Checker\\n\\n  * [Pythonchecker.com](http://pythonchecker.com/) \\\\- An educative online tool to rate your Python style (with dynamic score computation and hints)\\n\\n## Looking for a particular Python module or application?\\n\\n  * The first place to look is the [Python Package Index](http://pypi.python.org/pypi).\\n  * If you can\\'t find anything relevant in the Package Index,try [searching python.org](http://www.python.org/search/) \\\\- you can find anything mentioned on the Python site, in the [FAQs](http://www.python.org/doc/faq/), or in the newsgroup. More info: [where to search](http://www.python.org/search/).\\n  * You may also try our external guest project, [pydoc.net](http://pydoc.net/), for advanced package and module search.\\n  * Next, try [Google](http://www.google.com/) or another search engine of your choice. Searching for \"python\" and some relevant keywords will usually find something helpful.\\n  * Finally, you can try posting a query to the comp.lang.python Usenet group.\\n\\n## Python-Related Cheat Sheets\\n\\n  * Python: [Collection of 11 Best Python Cheat Sheets](https://blog.finxter.com/collection-5-cheat-sheets-every-python-coder-must-own/)\\n  * [NumPy](https://wiki.python.org/moin/NumPy): [Collection of 10 Best NumPy Cheat Sheets](https://blog.finxter.com/collection-10-best-numpy-cheat-sheets-every-python-coder-must-own/)\\n  * Pandas: [Collection of 7 Beautiful Pandas Cheat Sheets](https://blog.finxter.com/pandas-cheat-sheets/)\\n  * Machine Learning: [Collection of 15 Machine Learning Cheat Sheets](https://blog.finxter.com/machine-learning-cheat-sheets/)\\n\\n## Want to contribute?\\n\\n  * Python is a product of the [Python Software Foundation](http://www.python.org/psf/), a non-profit organization that holds the copyright. [Donations to the PSF](http://www.python.org/psf/donations/) are tax-deductible in the USA, and you can donate via credit card or [PayPal](https://wiki.python.org/moin/PayPal).\\n  * To report a bug in the Python core, use the [Python Bug Tracker](http://bugs.python.org/).\\n  * To contribute a bug fix or other patch to the Python core, read the [Python Developer\\'s Guide](http://www.python.org/dev/) for more information about Python\\'s development process.\\n  * To contribute to the official [Python documentation](http://www.python.org/doc/), join the [Documentation SIG](http://www.python.org/sigs/doc-sig/), write to [docs@python.org](mailto:docs@python.org) , or use the [Issue Tracker](http://bugs.python.org/) to contribute a documentation patch.\\n  * To announce your module or application to the Python community, use [comp.lang.python.announce](news:comp.lang.python.announce). See [the guide to Python mailing lists](http://www.python.org/community/lists/#comp-lang-python-announce) for more information.\\n  * To propose changes to the Python core, post your thoughts to [comp.lang.python](news:comp.lang.python). If you have an implementation, follow the [Python Patch Guidelines](http://www.python.org/patches/).\\n  * If you have a question are not sure where to report it, check out the [WhereDoIReportThis?](https://wiki.python.org/moin/WhereDoIReportThis%3F) page.\\n\\n\",\\n\\n'"
      ]
     },
     "execution_count": 16,
     "metadata": {},
     "output_type": "execute_result"
    }
   ],
   "source": [
    "from langchain_community.document_transformers import Html2TextTransformer\n",
    "import html2text\n",
    "\n",
    "converter = html2text.HTML2Text()\n",
    "\n",
    "# Convert HTML to plain text\n",
    "plain_text = converter.handle(HTML)\n",
    "plain_text "
   ]
  },
  {
   "cell_type": "code",
   "execution_count": 17,
   "metadata": {},
   "outputs": [],
   "source": [
    "import dotenv"
   ]
  },
  {
   "cell_type": "code",
   "execution_count": 20,
   "metadata": {},
   "outputs": [
    {
     "name": "stdout",
     "output_type": "stream",
     "text": [
      "OPENAI_API_KEY\n"
     ]
    },
    {
     "ename": "TypeError",
     "evalue": "'function' object is not subscriptable",
     "output_type": "error",
     "traceback": [
      "\u001b[1;31m---------------------------------------------------------------------------\u001b[0m",
      "\u001b[1;31mTypeError\u001b[0m                                 Traceback (most recent call last)",
      "Cell \u001b[1;32mIn[20], line 38\u001b[0m\n\u001b[0;32m     36\u001b[0m \u001b[38;5;66;03m# Example usage\u001b[39;00m\n\u001b[0;32m     37\u001b[0m \u001b[38;5;28;01mtry\u001b[39;00m:\n\u001b[1;32m---> 38\u001b[0m     openai_embeddings \u001b[38;5;241m=\u001b[39m \u001b[43mload_embedding\u001b[49m\u001b[43m(\u001b[49m\u001b[38;5;124;43m\"\u001b[39;49m\u001b[38;5;124;43mopenai\u001b[39;49m\u001b[38;5;124;43m\"\u001b[39;49m\u001b[43m)\u001b[49m\n\u001b[0;32m     39\u001b[0m     \u001b[38;5;28mprint\u001b[39m(\u001b[38;5;124m\"\u001b[39m\u001b[38;5;124mOpenAI embeddings loaded successfully\u001b[39m\u001b[38;5;124m\"\u001b[39m)\n\u001b[0;32m     40\u001b[0m \u001b[38;5;28;01mexcept\u001b[39;00m \u001b[38;5;167;01mValueError\u001b[39;00m \u001b[38;5;28;01mas\u001b[39;00m e:\n",
      "Cell \u001b[1;32mIn[20], line 25\u001b[0m, in \u001b[0;36mload_embedding\u001b[1;34m(embedding_name)\u001b[0m\n\u001b[0;32m     22\u001b[0m     \u001b[38;5;28;01mraise\u001b[39;00m \u001b[38;5;167;01mValueError\u001b[39;00m(\u001b[38;5;124mf\u001b[39m\u001b[38;5;124m\"\u001b[39m\u001b[38;5;124mEnvironment variable \u001b[39m\u001b[38;5;132;01m{\u001b[39;00menv_var_name\u001b[38;5;132;01m}\u001b[39;00m\u001b[38;5;124m not found\u001b[39m\u001b[38;5;124m\"\u001b[39m)\n\u001b[0;32m     24\u001b[0m \u001b[38;5;66;03m# Get the API key from the environment variable\u001b[39;00m\n\u001b[1;32m---> 25\u001b[0m api_key \u001b[38;5;241m=\u001b[39m \u001b[43mos\u001b[49m\u001b[38;5;241;43m.\u001b[39;49m\u001b[43mgetenv\u001b[49m\u001b[43m[\u001b[49m\u001b[43menv_var_name\u001b[49m\u001b[43m]\u001b[49m\n\u001b[0;32m     27\u001b[0m \u001b[38;5;66;03m# Initialize vector embedding based on the embedding name\u001b[39;00m\n\u001b[0;32m     28\u001b[0m \u001b[38;5;28;01mif\u001b[39;00m embedding_name \u001b[38;5;241m==\u001b[39m \u001b[38;5;124m\"\u001b[39m\u001b[38;5;124mopenai\u001b[39m\u001b[38;5;124m\"\u001b[39m:\n",
      "\u001b[1;31mTypeError\u001b[0m: 'function' object is not subscriptable"
     ]
    }
   ],
   "source": [
    "from dotenv import load_dotenv\n",
    "import os\n",
    "from pathlib import Path\n",
    "load_dotenv()\n",
    "from langchain_openai import OpenAIEmbeddings\n",
    "from langchain_google_genai import GoogleGenerativeAIEmbeddings\n",
    "def load_embedding(embedding_name):\n",
    "    # Define environment variable names for different embeddings\n",
    "    embedding_env_vars = {\n",
    "        \"openai\": \"OPENAI_API_KEY\",\n",
    "        \"googleai\": \"GOOGLE_API_KEY\"\n",
    "    }\n",
    "\n",
    "    # Check if the embedding name is valid\n",
    "    if embedding_name not in embedding_env_vars:\n",
    "        raise ValueError(f\"Unsupported embedding: {embedding_name}\")\n",
    "    # Get the environment variable name for the given embedding\n",
    "    env_var_name = embedding_env_vars[embedding_name]\n",
    "    print(env_var_name)\n",
    "    # Check if the environment variable exists\n",
    "    if env_var_name not in os.environ:\n",
    "        raise ValueError(f\"Environment variable {env_var_name} not found\")\n",
    "\n",
    "    # Get the API key from the environment variable\n",
    "    api_key = os.getenv[env_var_name]\n",
    "\n",
    "    # Initialize vector embedding based on the embedding name\n",
    "    if embedding_name == \"openai\":\n",
    "        embeddings = OpenAIEmbeddings(api_key=api_key)\n",
    "    elif embedding_name == \"googleai\":\n",
    "        embeddings = GoogleGenerativeAIEmbeddings(model=\"models/embedding-001\", google_api_key=api_key)\n",
    "    else:\n",
    "        raise ValueError(f\"Unsupported embedding: {embedding_name}\")\n",
    "    return embeddings\n",
    "\n",
    "# Example usage\n",
    "try:\n",
    "    openai_embeddings = load_embedding(\"openai\")\n",
    "    print(\"OpenAI embeddings loaded successfully\")\n",
    "except ValueError as e:\n",
    "    print(e)\n",
    "\n",
    "try:\n",
    "    googleai_embeddings = load_embedding(\"googleai\")\n",
    "    print(\"GoogleAI embeddings loaded successfully\")\n",
    "except ValueError as e:\n",
    "    print(e)"
   ]
  },
  {
   "cell_type": "code",
   "execution_count": null,
   "metadata": {},
   "outputs": [],
   "source": []
  }
 ],
 "metadata": {
  "kernelspec": {
   "display_name": "genai",
   "language": "python",
   "name": "python3"
  },
  "language_info": {
   "codemirror_mode": {
    "name": "ipython",
    "version": 3
   },
   "file_extension": ".py",
   "mimetype": "text/x-python",
   "name": "python",
   "nbconvert_exporter": "python",
   "pygments_lexer": "ipython3",
   "version": "3.10.13"
  }
 },
 "nbformat": 4,
 "nbformat_minor": 2
}
